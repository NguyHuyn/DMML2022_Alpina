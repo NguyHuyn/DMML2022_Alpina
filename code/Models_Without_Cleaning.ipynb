{
  "cells": [
    {
      "cell_type": "markdown",
      "metadata": {
        "id": "cmB0hBTrwKF7"
      },
      "source": [
        "# 1. Read data into your notebook with the Kaggle API."
      ]
    },
    {
      "cell_type": "code",
      "execution_count": null,
      "metadata": {
        "colab": {
          "base_uri": "https://localhost:8080/"
        },
        "id": "JsYLVzKwwmZU",
        "outputId": "8665c773-5250-4c30-a1c3-6a5bacc0dd0c"
      },
      "outputs": [
        {
          "output_type": "stream",
          "name": "stdout",
          "text": [
            "Mounted at /content/drive\n"
          ]
        }
      ],
      "source": [
        "# reading in the data via the Kaggle API\n",
        "\n",
        "# mount your Google Drive\n",
        "from google.colab import drive\n",
        "drive.mount('/content/drive', force_remount=True)"
      ]
    },
    {
      "cell_type": "code",
      "execution_count": null,
      "metadata": {
        "colab": {
          "base_uri": "https://localhost:8080/"
        },
        "id": "kkRh1SutyGbH",
        "outputId": "b24ece2c-d182-40c8-85b6-7b5627258511"
      },
      "outputs": [
        {
          "output_type": "stream",
          "name": "stdout",
          "text": [
            "Looking in indexes: https://pypi.org/simple, https://us-python.pkg.dev/colab-wheels/public/simple/\n",
            "Requirement already satisfied: kaggle in /usr/local/lib/python3.8/dist-packages (1.5.12)\n",
            "Requirement already satisfied: tqdm in /usr/local/lib/python3.8/dist-packages (from kaggle) (4.64.1)\n",
            "Requirement already satisfied: six>=1.10 in /usr/local/lib/python3.8/dist-packages (from kaggle) (1.15.0)\n",
            "Requirement already satisfied: python-dateutil in /usr/local/lib/python3.8/dist-packages (from kaggle) (2.8.2)\n",
            "Requirement already satisfied: python-slugify in /usr/local/lib/python3.8/dist-packages (from kaggle) (7.0.0)\n",
            "Requirement already satisfied: urllib3 in /usr/local/lib/python3.8/dist-packages (from kaggle) (1.24.3)\n",
            "Requirement already satisfied: certifi in /usr/local/lib/python3.8/dist-packages (from kaggle) (2022.12.7)\n",
            "Requirement already satisfied: requests in /usr/local/lib/python3.8/dist-packages (from kaggle) (2.23.0)\n",
            "Requirement already satisfied: text-unidecode>=1.3 in /usr/local/lib/python3.8/dist-packages (from python-slugify->kaggle) (1.3)\n",
            "Requirement already satisfied: chardet<4,>=3.0.2 in /usr/local/lib/python3.8/dist-packages (from requests->kaggle) (3.0.4)\n",
            "Requirement already satisfied: idna<3,>=2.5 in /usr/local/lib/python3.8/dist-packages (from requests->kaggle) (2.10)\n"
          ]
        }
      ],
      "source": [
        "# install Kaggle\n",
        "! pip install kaggle"
      ]
    },
    {
      "cell_type": "code",
      "execution_count": null,
      "metadata": {
        "id": "tqpkqHDxyK2u",
        "colab": {
          "base_uri": "https://localhost:8080/"
        },
        "outputId": "af049d03-2ff0-4996-8d99-f8a4b4dbb511"
      },
      "outputs": [
        {
          "output_type": "stream",
          "name": "stdout",
          "text": [
            "mkdir: cannot create directory ‘/root/.kaggle’: File exists\n"
          ]
        }
      ],
      "source": [
        "!mkdir ~/.kaggle"
      ]
    },
    {
      "cell_type": "code",
      "execution_count": null,
      "metadata": {
        "colab": {
          "base_uri": "https://localhost:8080/"
        },
        "id": "tnRUGmyhyTha",
        "outputId": "d77ab7a2-c942-454b-8f9b-72aa8047f79b"
      },
      "outputs": [
        {
          "output_type": "stream",
          "name": "stdout",
          "text": [
            "cp: cannot stat '/content/drive/MyDrive/kaggle.json': No such file or directory\n"
          ]
        }
      ],
      "source": [
        "#read in your Kaggle credentials from Google Drive\n",
        "!cp /content/drive/MyDrive/kaggle.json ~/.kaggle/kaggle.json"
      ]
    },
    {
      "cell_type": "code",
      "execution_count": null,
      "metadata": {
        "colab": {
          "base_uri": "https://localhost:8080/"
        },
        "id": "ERVUWnkxyWrZ",
        "outputId": "25b5fa4d-7612-415b-b7bf-9fab93a21d01"
      },
      "outputs": [
        {
          "output_type": "stream",
          "name": "stdout",
          "text": [
            "Traceback (most recent call last):\n",
            "  File \"/usr/local/bin/kaggle\", line 5, in <module>\n",
            "    from kaggle.cli import main\n",
            "  File \"/usr/local/lib/python3.8/dist-packages/kaggle/__init__.py\", line 23, in <module>\n",
            "    api.authenticate()\n",
            "  File \"/usr/local/lib/python3.8/dist-packages/kaggle/api/kaggle_api_extended.py\", line 164, in authenticate\n",
            "    raise IOError('Could not find {}. Make sure it\\'s located in'\n",
            "OSError: Could not find kaggle.json. Make sure it's located in /root/.kaggle. Or use the environment method.\n"
          ]
        }
      ],
      "source": [
        "# download the dataset from the competition page\n",
        "! kaggle competitions download -c detecting-the-difficulty-level-of-french-texts"
      ]
    },
    {
      "cell_type": "code",
      "execution_count": null,
      "metadata": {
        "id": "HJjyEBLFyk0x"
      },
      "outputs": [],
      "source": [
        "# read in your training data\n",
        "import pandas as pd\n",
        "import numpy as np\n",
        "\n",
        "df_train = pd.read_csv(\"/content/drive/MyDrive/DDML/training_data.csv\")"
      ]
    },
    {
      "cell_type": "code",
      "execution_count": null,
      "metadata": {
        "colab": {
          "base_uri": "https://localhost:8080/",
          "height": 206
        },
        "id": "RxHhapl8y73g",
        "outputId": "56639ff2-089c-487d-c08b-4b95ce4135c1"
      },
      "outputs": [
        {
          "output_type": "execute_result",
          "data": {
            "text/plain": [
              "   id                                           sentence difficulty\n",
              "0   0  Les coûts kilométriques réels peuvent diverger...         C1\n",
              "1   1  Le bleu, c'est ma couleur préférée mais je n'a...         A1\n",
              "2   2  Le test de niveau en français est sur le site ...         A1\n",
              "3   3           Est-ce que ton mari est aussi de Boston?         A1\n",
              "4   4  Dans les écoles de commerce, dans les couloirs...         B1"
            ],
            "text/html": [
              "\n",
              "  <div id=\"df-c1ab4265-1786-4e61-add5-8ffa2ef98e91\">\n",
              "    <div class=\"colab-df-container\">\n",
              "      <div>\n",
              "<style scoped>\n",
              "    .dataframe tbody tr th:only-of-type {\n",
              "        vertical-align: middle;\n",
              "    }\n",
              "\n",
              "    .dataframe tbody tr th {\n",
              "        vertical-align: top;\n",
              "    }\n",
              "\n",
              "    .dataframe thead th {\n",
              "        text-align: right;\n",
              "    }\n",
              "</style>\n",
              "<table border=\"1\" class=\"dataframe\">\n",
              "  <thead>\n",
              "    <tr style=\"text-align: right;\">\n",
              "      <th></th>\n",
              "      <th>id</th>\n",
              "      <th>sentence</th>\n",
              "      <th>difficulty</th>\n",
              "    </tr>\n",
              "  </thead>\n",
              "  <tbody>\n",
              "    <tr>\n",
              "      <th>0</th>\n",
              "      <td>0</td>\n",
              "      <td>Les coûts kilométriques réels peuvent diverger...</td>\n",
              "      <td>C1</td>\n",
              "    </tr>\n",
              "    <tr>\n",
              "      <th>1</th>\n",
              "      <td>1</td>\n",
              "      <td>Le bleu, c'est ma couleur préférée mais je n'a...</td>\n",
              "      <td>A1</td>\n",
              "    </tr>\n",
              "    <tr>\n",
              "      <th>2</th>\n",
              "      <td>2</td>\n",
              "      <td>Le test de niveau en français est sur le site ...</td>\n",
              "      <td>A1</td>\n",
              "    </tr>\n",
              "    <tr>\n",
              "      <th>3</th>\n",
              "      <td>3</td>\n",
              "      <td>Est-ce que ton mari est aussi de Boston?</td>\n",
              "      <td>A1</td>\n",
              "    </tr>\n",
              "    <tr>\n",
              "      <th>4</th>\n",
              "      <td>4</td>\n",
              "      <td>Dans les écoles de commerce, dans les couloirs...</td>\n",
              "      <td>B1</td>\n",
              "    </tr>\n",
              "  </tbody>\n",
              "</table>\n",
              "</div>\n",
              "      <button class=\"colab-df-convert\" onclick=\"convertToInteractive('df-c1ab4265-1786-4e61-add5-8ffa2ef98e91')\"\n",
              "              title=\"Convert this dataframe to an interactive table.\"\n",
              "              style=\"display:none;\">\n",
              "        \n",
              "  <svg xmlns=\"http://www.w3.org/2000/svg\" height=\"24px\"viewBox=\"0 0 24 24\"\n",
              "       width=\"24px\">\n",
              "    <path d=\"M0 0h24v24H0V0z\" fill=\"none\"/>\n",
              "    <path d=\"M18.56 5.44l.94 2.06.94-2.06 2.06-.94-2.06-.94-.94-2.06-.94 2.06-2.06.94zm-11 1L8.5 8.5l.94-2.06 2.06-.94-2.06-.94L8.5 2.5l-.94 2.06-2.06.94zm10 10l.94 2.06.94-2.06 2.06-.94-2.06-.94-.94-2.06-.94 2.06-2.06.94z\"/><path d=\"M17.41 7.96l-1.37-1.37c-.4-.4-.92-.59-1.43-.59-.52 0-1.04.2-1.43.59L10.3 9.45l-7.72 7.72c-.78.78-.78 2.05 0 2.83L4 21.41c.39.39.9.59 1.41.59.51 0 1.02-.2 1.41-.59l7.78-7.78 2.81-2.81c.8-.78.8-2.07 0-2.86zM5.41 20L4 18.59l7.72-7.72 1.47 1.35L5.41 20z\"/>\n",
              "  </svg>\n",
              "      </button>\n",
              "      \n",
              "  <style>\n",
              "    .colab-df-container {\n",
              "      display:flex;\n",
              "      flex-wrap:wrap;\n",
              "      gap: 12px;\n",
              "    }\n",
              "\n",
              "    .colab-df-convert {\n",
              "      background-color: #E8F0FE;\n",
              "      border: none;\n",
              "      border-radius: 50%;\n",
              "      cursor: pointer;\n",
              "      display: none;\n",
              "      fill: #1967D2;\n",
              "      height: 32px;\n",
              "      padding: 0 0 0 0;\n",
              "      width: 32px;\n",
              "    }\n",
              "\n",
              "    .colab-df-convert:hover {\n",
              "      background-color: #E2EBFA;\n",
              "      box-shadow: 0px 1px 2px rgba(60, 64, 67, 0.3), 0px 1px 3px 1px rgba(60, 64, 67, 0.15);\n",
              "      fill: #174EA6;\n",
              "    }\n",
              "\n",
              "    [theme=dark] .colab-df-convert {\n",
              "      background-color: #3B4455;\n",
              "      fill: #D2E3FC;\n",
              "    }\n",
              "\n",
              "    [theme=dark] .colab-df-convert:hover {\n",
              "      background-color: #434B5C;\n",
              "      box-shadow: 0px 1px 3px 1px rgba(0, 0, 0, 0.15);\n",
              "      filter: drop-shadow(0px 1px 2px rgba(0, 0, 0, 0.3));\n",
              "      fill: #FFFFFF;\n",
              "    }\n",
              "  </style>\n",
              "\n",
              "      <script>\n",
              "        const buttonEl =\n",
              "          document.querySelector('#df-c1ab4265-1786-4e61-add5-8ffa2ef98e91 button.colab-df-convert');\n",
              "        buttonEl.style.display =\n",
              "          google.colab.kernel.accessAllowed ? 'block' : 'none';\n",
              "\n",
              "        async function convertToInteractive(key) {\n",
              "          const element = document.querySelector('#df-c1ab4265-1786-4e61-add5-8ffa2ef98e91');\n",
              "          const dataTable =\n",
              "            await google.colab.kernel.invokeFunction('convertToInteractive',\n",
              "                                                     [key], {});\n",
              "          if (!dataTable) return;\n",
              "\n",
              "          const docLinkHtml = 'Like what you see? Visit the ' +\n",
              "            '<a target=\"_blank\" href=https://colab.research.google.com/notebooks/data_table.ipynb>data table notebook</a>'\n",
              "            + ' to learn more about interactive tables.';\n",
              "          element.innerHTML = '';\n",
              "          dataTable['output_type'] = 'display_data';\n",
              "          await google.colab.output.renderOutput(dataTable, element);\n",
              "          const docLink = document.createElement('div');\n",
              "          docLink.innerHTML = docLinkHtml;\n",
              "          element.appendChild(docLink);\n",
              "        }\n",
              "      </script>\n",
              "    </div>\n",
              "  </div>\n",
              "  "
            ]
          },
          "metadata": {},
          "execution_count": 67
        }
      ],
      "source": [
        "df_train.head()\n"
      ]
    },
    {
      "cell_type": "code",
      "execution_count": null,
      "metadata": {
        "colab": {
          "base_uri": "https://localhost:8080/",
          "height": 206
        },
        "id": "Ce_WbMhs01oE",
        "outputId": "fe6419d2-4f3f-4d18-d934-bb51e2daee22"
      },
      "outputs": [
        {
          "output_type": "execute_result",
          "data": {
            "text/plain": [
              "   id                                           sentence\n",
              "0   0  Nous dûmes nous excuser des propos que nous eû...\n",
              "1   1  Vous ne pouvez pas savoir le plaisir que j'ai ...\n",
              "2   2  Et, paradoxalement, boire froid n'est pas la b...\n",
              "3   3  Ce n'est pas étonnant, car c'est une saison my...\n",
              "4   4  Le corps de Golo lui-même, d'une essence aussi..."
            ],
            "text/html": [
              "\n",
              "  <div id=\"df-b3c0df6e-a75b-4e74-afaa-2c1cbbcb0e82\">\n",
              "    <div class=\"colab-df-container\">\n",
              "      <div>\n",
              "<style scoped>\n",
              "    .dataframe tbody tr th:only-of-type {\n",
              "        vertical-align: middle;\n",
              "    }\n",
              "\n",
              "    .dataframe tbody tr th {\n",
              "        vertical-align: top;\n",
              "    }\n",
              "\n",
              "    .dataframe thead th {\n",
              "        text-align: right;\n",
              "    }\n",
              "</style>\n",
              "<table border=\"1\" class=\"dataframe\">\n",
              "  <thead>\n",
              "    <tr style=\"text-align: right;\">\n",
              "      <th></th>\n",
              "      <th>id</th>\n",
              "      <th>sentence</th>\n",
              "    </tr>\n",
              "  </thead>\n",
              "  <tbody>\n",
              "    <tr>\n",
              "      <th>0</th>\n",
              "      <td>0</td>\n",
              "      <td>Nous dûmes nous excuser des propos que nous eû...</td>\n",
              "    </tr>\n",
              "    <tr>\n",
              "      <th>1</th>\n",
              "      <td>1</td>\n",
              "      <td>Vous ne pouvez pas savoir le plaisir que j'ai ...</td>\n",
              "    </tr>\n",
              "    <tr>\n",
              "      <th>2</th>\n",
              "      <td>2</td>\n",
              "      <td>Et, paradoxalement, boire froid n'est pas la b...</td>\n",
              "    </tr>\n",
              "    <tr>\n",
              "      <th>3</th>\n",
              "      <td>3</td>\n",
              "      <td>Ce n'est pas étonnant, car c'est une saison my...</td>\n",
              "    </tr>\n",
              "    <tr>\n",
              "      <th>4</th>\n",
              "      <td>4</td>\n",
              "      <td>Le corps de Golo lui-même, d'une essence aussi...</td>\n",
              "    </tr>\n",
              "  </tbody>\n",
              "</table>\n",
              "</div>\n",
              "      <button class=\"colab-df-convert\" onclick=\"convertToInteractive('df-b3c0df6e-a75b-4e74-afaa-2c1cbbcb0e82')\"\n",
              "              title=\"Convert this dataframe to an interactive table.\"\n",
              "              style=\"display:none;\">\n",
              "        \n",
              "  <svg xmlns=\"http://www.w3.org/2000/svg\" height=\"24px\"viewBox=\"0 0 24 24\"\n",
              "       width=\"24px\">\n",
              "    <path d=\"M0 0h24v24H0V0z\" fill=\"none\"/>\n",
              "    <path d=\"M18.56 5.44l.94 2.06.94-2.06 2.06-.94-2.06-.94-.94-2.06-.94 2.06-2.06.94zm-11 1L8.5 8.5l.94-2.06 2.06-.94-2.06-.94L8.5 2.5l-.94 2.06-2.06.94zm10 10l.94 2.06.94-2.06 2.06-.94-2.06-.94-.94-2.06-.94 2.06-2.06.94z\"/><path d=\"M17.41 7.96l-1.37-1.37c-.4-.4-.92-.59-1.43-.59-.52 0-1.04.2-1.43.59L10.3 9.45l-7.72 7.72c-.78.78-.78 2.05 0 2.83L4 21.41c.39.39.9.59 1.41.59.51 0 1.02-.2 1.41-.59l7.78-7.78 2.81-2.81c.8-.78.8-2.07 0-2.86zM5.41 20L4 18.59l7.72-7.72 1.47 1.35L5.41 20z\"/>\n",
              "  </svg>\n",
              "      </button>\n",
              "      \n",
              "  <style>\n",
              "    .colab-df-container {\n",
              "      display:flex;\n",
              "      flex-wrap:wrap;\n",
              "      gap: 12px;\n",
              "    }\n",
              "\n",
              "    .colab-df-convert {\n",
              "      background-color: #E8F0FE;\n",
              "      border: none;\n",
              "      border-radius: 50%;\n",
              "      cursor: pointer;\n",
              "      display: none;\n",
              "      fill: #1967D2;\n",
              "      height: 32px;\n",
              "      padding: 0 0 0 0;\n",
              "      width: 32px;\n",
              "    }\n",
              "\n",
              "    .colab-df-convert:hover {\n",
              "      background-color: #E2EBFA;\n",
              "      box-shadow: 0px 1px 2px rgba(60, 64, 67, 0.3), 0px 1px 3px 1px rgba(60, 64, 67, 0.15);\n",
              "      fill: #174EA6;\n",
              "    }\n",
              "\n",
              "    [theme=dark] .colab-df-convert {\n",
              "      background-color: #3B4455;\n",
              "      fill: #D2E3FC;\n",
              "    }\n",
              "\n",
              "    [theme=dark] .colab-df-convert:hover {\n",
              "      background-color: #434B5C;\n",
              "      box-shadow: 0px 1px 3px 1px rgba(0, 0, 0, 0.15);\n",
              "      filter: drop-shadow(0px 1px 2px rgba(0, 0, 0, 0.3));\n",
              "      fill: #FFFFFF;\n",
              "    }\n",
              "  </style>\n",
              "\n",
              "      <script>\n",
              "        const buttonEl =\n",
              "          document.querySelector('#df-b3c0df6e-a75b-4e74-afaa-2c1cbbcb0e82 button.colab-df-convert');\n",
              "        buttonEl.style.display =\n",
              "          google.colab.kernel.accessAllowed ? 'block' : 'none';\n",
              "\n",
              "        async function convertToInteractive(key) {\n",
              "          const element = document.querySelector('#df-b3c0df6e-a75b-4e74-afaa-2c1cbbcb0e82');\n",
              "          const dataTable =\n",
              "            await google.colab.kernel.invokeFunction('convertToInteractive',\n",
              "                                                     [key], {});\n",
              "          if (!dataTable) return;\n",
              "\n",
              "          const docLinkHtml = 'Like what you see? Visit the ' +\n",
              "            '<a target=\"_blank\" href=https://colab.research.google.com/notebooks/data_table.ipynb>data table notebook</a>'\n",
              "            + ' to learn more about interactive tables.';\n",
              "          element.innerHTML = '';\n",
              "          dataTable['output_type'] = 'display_data';\n",
              "          await google.colab.output.renderOutput(dataTable, element);\n",
              "          const docLink = document.createElement('div');\n",
              "          docLink.innerHTML = docLinkHtml;\n",
              "          element.appendChild(docLink);\n",
              "        }\n",
              "      </script>\n",
              "    </div>\n",
              "  </div>\n",
              "  "
            ]
          },
          "metadata": {},
          "execution_count": 68
        }
      ],
      "source": [
        "df_pred = pd.read_csv(\"/content/drive/MyDrive/DDML/unlabelled_test_data.csv\")\n",
        "df_pred.head()"
      ]
    },
    {
      "cell_type": "markdown",
      "metadata": {
        "id": "IC-sTs6x1c2e"
      },
      "source": [
        "# 2. Train your models\n",
        "\n",
        "Set your X and y variables. \n",
        "Set the `random_state=0`\n",
        "Split the data into a train and test set using the following parameters `train_test_split(X, y, test_size=0.2, random_state=0)`.\n",
        "\n",
        "#### 2.1.Baseline\n",
        "What is the baseline for this classification problem?\n",
        "\n"
      ]
    },
    {
      "cell_type": "code",
      "execution_count": null,
      "metadata": {
        "colab": {
          "base_uri": "https://localhost:8080/"
        },
        "id": "F_xJ0kkY1aXk",
        "outputId": "747ae53d-7503-459b-da8d-be74c12979ce"
      },
      "outputs": [
        {
          "output_type": "execute_result",
          "data": {
            "text/plain": [
              "A1    0.169375\n",
              "C2    0.168125\n",
              "C1    0.166250\n",
              "B1    0.165625\n",
              "A2    0.165625\n",
              "B2    0.165000\n",
              "Name: difficulty, dtype: float64"
            ]
          },
          "metadata": {},
          "execution_count": 69
        }
      ],
      "source": [
        "from sklearn.model_selection import train_test_split\n",
        "\n",
        "#IDV & DV\n",
        "X = df_train['sentence'] # Inputs --> IDV\n",
        "y = df_train['difficulty'] # Outputs wanted --> DV\n",
        "\n",
        "#count the frequence of the values\n",
        "y.value_counts(normalize=True, ascending=False) \n",
        "\n"
      ]
    },
    {
      "cell_type": "code",
      "execution_count": null,
      "metadata": {
        "colab": {
          "base_uri": "https://localhost:8080/"
        },
        "id": "1IEm4yhOpn5w",
        "outputId": "72950041-836f-4b88-c479-b8b191fca5a5"
      },
      "outputs": [
        {
          "output_type": "stream",
          "name": "stdout",
          "text": [
            "Baseline: 0.169375\n"
          ]
        }
      ],
      "source": [
        "#Define the baseline\n",
        "#Base Rate = (most frequent class) / (total observations)\n",
        "baseline = df_train['difficulty'].value_counts().max() / len(df_train)\n",
        "print(\"Baseline:\" , baseline)\n"
      ]
    },
    {
      "cell_type": "code",
      "execution_count": null,
      "metadata": {
        "id": "H7abuI3GsuWU"
      },
      "outputs": [],
      "source": [
        "# Train test split\n",
        "X_train, X_test, y_train, y_test = train_test_split(X, y, test_size=0.2, random_state=0)"
      ]
    },
    {
      "cell_type": "markdown",
      "metadata": {
        "id": "SU-EJmXalp8a"
      },
      "source": [
        "## 2.2. Logistic Regression (without data cleaning)\n",
        "Train a simple logistic regression model using a Tfidf vectoriser. \n",
        "\n",
        "TF-IDF (Term Frequency-Inverse Document Frequency) is a statistical measure used to assess the importance of words in a document or collection of documents. It is commonly used in information retrieval and natural language processing to understand the relationships of terms within a document or set of documents.\n",
        "\n",
        "To compute her TF-IDF for the terms in the document, the vectorizer first computes the term frequency (TF). This is the number of occurrences of the term in the document divided by the total number of terms in the document. Inverse Document Frequency (IDF) is calculated as the logarithm of the total number of documents in the collection divided by the number of documents in which the term appears. Finally, TF-IDF is computed as the product of TF and IDF.\n",
        "\n",
        "source: https://ahume9.medium.com/classifying-text-content-with-tf-idf-1e4fcd2732b"
      ]
    },
    {
      "cell_type": "code",
      "execution_count": null,
      "metadata": {
        "id": "rBO9ZiHTjbzy"
      },
      "outputs": [],
      "source": [
        "# import libraries\n",
        "import matplotlib.pyplot as plt\n",
        "from sklearn.feature_extraction.text import TfidfVectorizer\n",
        "from sklearn.linear_model import LogisticRegression\n",
        "from sklearn.pipeline import Pipeline\n",
        "\n",
        "# Pipeline for TF-IDF with Logistic Regression model\n",
        "pipe_tvec = Pipeline([\n",
        "    ('tvec', TfidfVectorizer()), #transformer\n",
        "    ('lr', LogisticRegression()) #model\n",
        "])\n",
        "\n",
        "# Fit model on training set\n",
        "pipe_tvec.fit(X_train, y_train)\n",
        "y_pred = pipe_tvec.predict(X_test)"
      ]
    },
    {
      "cell_type": "markdown",
      "metadata": {
        "id": "8FEm88uamKzN"
      },
      "source": [
        "Calculate accuracy, precision, recall and F1 score on the test set."
      ]
    },
    {
      "cell_type": "code",
      "execution_count": null,
      "metadata": {
        "colab": {
          "base_uri": "https://localhost:8080/"
        },
        "id": "DZRSgwc_x52b",
        "outputId": "1b889fc4-7a80-4d27-cceb-acbb62e33ffe"
      },
      "outputs": [
        {
          "output_type": "stream",
          "name": "stdout",
          "text": [
            "ACCURACY SCORE:\n",
            "0.4667\n",
            "CLASSIFICATION REPORT:\n",
            "\tPrecision: 0.4667\n",
            "\tRecall: 0.4667\n",
            "\tF1_Score: 0.4667\n"
          ]
        }
      ],
      "source": [
        "from sklearn.metrics import accuracy_score, precision_score, recall_score, f1_score\n",
        "# Evaluate the model\n",
        "def evaluate(true, pred):\n",
        "    precision = precision_score(y_test, y_pred,average='micro')\n",
        "    recall = recall_score(y_test, y_pred, average='micro')\n",
        "    f1 = f1_score(y_test, y_pred, average='micro')\n",
        "    print(f\"ACCURACY SCORE:\\n{accuracy_score(true, pred):.4f}\")\n",
        "    print(f\"CLASSIFICATION REPORT:\\n\\tPrecision: {precision:.4f}\\n\\tRecall: {recall:.4f}\\n\\tF1_Score: {f1:.4f}\")\n",
        "evaluate(y_test, y_pred)\n",
        "\n",
        "\n",
        "     "
      ]
    },
    {
      "cell_type": "markdown",
      "metadata": {
        "id": "eWITonvDESeT"
      },
      "source": [
        "the F1 score is a metric used to evaluate the performance of a classification model"
      ]
    },
    {
      "cell_type": "code",
      "source": [
        "# Save the results \n",
        "LR1Accuracy = accuracy_score(y_test, y_pred)\n",
        "LR1Precision = precision_score(y_test, y_pred,average='micro')\n",
        "LR1Recall = recall_score(y_test, y_pred,average='micro')\n",
        "LR1F1= f1_score(y_test, y_pred,average='micro')"
      ],
      "metadata": {
        "id": "c3YYhGC_aaxQ"
      },
      "execution_count": null,
      "outputs": []
    },
    {
      "cell_type": "markdown",
      "metadata": {
        "id": "4bWQ_uNnmwjz"
      },
      "source": [
        "Have a look at the confusion matrix and identify a few examples of sentences that are not well classified.\n",
        "\n",
        "source: https://vitalflux.com/python-draw-confusion-matrix-matplotlib/\n"
      ]
    },
    {
      "cell_type": "code",
      "execution_count": null,
      "metadata": {
        "colab": {
          "base_uri": "https://localhost:8080/",
          "height": 555
        },
        "id": "wdTf7netmyTQ",
        "outputId": "c114ae66-9e6c-416c-b9f8-ad6b9bfeba1a"
      },
      "outputs": [
        {
          "output_type": "display_data",
          "data": {
            "text/plain": [
              "<Figure size 576x576 with 1 Axes>"
            ],
            "image/png": "[encoded data removed]"
          },
          "metadata": {
            "needs_background": "light"
          }
        }
      ],
      "source": [
        "from sklearn.metrics import confusion_matrix\n",
        "import matplotlib.pyplot as plt\n",
        "import numpy as np\n",
        "from mlxtend.plotting import plot_confusion_matrix\n",
        "\n",
        "conf_matrix = confusion_matrix(y_true=y_test, y_pred=y_pred)\n",
        "fig, ax = plot_confusion_matrix(conf_mat=conf_matrix, figsize=(8, 8), cmap=plt.cm.Purples)\n",
        "plt.xlabel('Predictions', fontsize=18, )\n",
        "plt.ylabel('Actuals', fontsize=18)\n",
        "plt.title('Confusion Matrix', fontsize=28)\n",
        "plt.show()"
      ]
    },
    {
      "cell_type": "markdown",
      "source": [
        "## 2.2 Logistic Regression 2\n",
        "Try to improve it by modifying the parameters of the TF-IDF vector & the model."
      ],
      "metadata": {
        "id": "prN3PGHiTT6z"
      }
    },
    {
      "cell_type": "code",
      "execution_count": null,
      "metadata": {
        "id": "nNxikouU0nzA",
        "colab": {
          "base_uri": "https://localhost:8080/"
        },
        "outputId": "1fd5a366-7142-4169-84f4-0d7b27e46f55"
      },
      "outputs": [
        {
          "output_type": "stream",
          "name": "stderr",
          "text": [
            "/usr/local/lib/python3.8/dist-packages/sklearn/linear_model/_logistic.py:814: ConvergenceWarning: lbfgs failed to converge (status=1):\n",
            "STOP: TOTAL NO. of ITERATIONS REACHED LIMIT.\n",
            "\n",
            "Increase the number of iterations (max_iter) or scale the data as shown in:\n",
            "    https://scikit-learn.org/stable/modules/preprocessing.html\n",
            "Please also refer to the documentation for alternative solver options:\n",
            "    https://scikit-learn.org/stable/modules/linear_model.html#logistic-regression\n",
            "  n_iter_i = _check_optimize_result(\n"
          ]
        },
        {
          "output_type": "stream",
          "name": "stdout",
          "text": [
            "ACCURACY SCORE:\n",
            "0.5167\n",
            "CLASSIFICATION REPORT:\n",
            "\tPrecision: 0.5167\n",
            "\tRecall: 0.5167\n",
            "\tF1_Score: 0.5167\n"
          ]
        }
      ],
      "source": [
        "#IDV & DV\n",
        "X = df_train['sentence'] # Inputs --> IDV\n",
        "y = df_train['difficulty'] # Outputs wanted --> DV\n",
        "\n",
        "X_train , X_test, y_train, y_test = train_test_split(X, y, test_size=0.2, random_state=0)\n",
        "\n",
        "    # Pipeline for TF-IDF with Logistic Regression model\n",
        "pipe_tvec = Pipeline([\n",
        "    ('tvec', TfidfVectorizer(ngram_range=(1, 12), min_df=1, norm='l2', analyzer=\"char\",sublinear_tf=True)), #transformer\n",
        "    ('lr', LogisticRegression(solver ='lbfgs', penalty='l2', C=5)) #model\n",
        "])  \n",
        "\n",
        "    # Fit model on training set\n",
        "pipe_tvec.fit(X_train, y_train)\n",
        "\n",
        "    # Predictions\n",
        "y_pred = pipe_tvec.predict(X_test)\n",
        "\n",
        "    # Print accuracy on test set\n",
        "evaluate(y_test, y_pred)"
      ]
    },
    {
      "cell_type": "code",
      "source": [
        "# Save the results \n",
        "LR2Accuracy = accuracy_score(y_test, y_pred)\n",
        "LR2Precision = precision_score(y_test, y_pred,average='micro')\n",
        "LR2Recall = recall_score(y_test, y_pred,average='micro')\n",
        "LR2F1= f1_score(y_test, y_pred,average='micro')"
      ],
      "metadata": {
        "id": "2h70gZT0bOs3"
      },
      "execution_count": null,
      "outputs": []
    },
    {
      "cell_type": "code",
      "execution_count": null,
      "metadata": {
        "id": "zvmasfZMFwuD",
        "colab": {
          "base_uri": "https://localhost:8080/",
          "height": 17
        },
        "outputId": "ab31ada5-bd67-4eeb-a635-2dd118bef8b5"
      },
      "outputs": [
        {
          "output_type": "display_data",
          "data": {
            "text/plain": [
              "<IPython.core.display.Javascript object>"
            ],
            "application/javascript": [
              "\n",
              "    async function download(id, filename, size) {\n",
              "      if (!google.colab.kernel.accessAllowed) {\n",
              "        return;\n",
              "      }\n",
              "      const div = document.createElement('div');\n",
              "      const label = document.createElement('label');\n",
              "      label.textContent = `Downloading \"${filename}\": `;\n",
              "      div.appendChild(label);\n",
              "      const progress = document.createElement('progress');\n",
              "      progress.max = size;\n",
              "      div.appendChild(progress);\n",
              "      document.body.appendChild(div);\n",
              "\n",
              "      const buffers = [];\n",
              "      let downloaded = 0;\n",
              "\n",
              "      const channel = await google.colab.kernel.comms.open(id);\n",
              "      // Send a message to notify the kernel that we're ready.\n",
              "      channel.send({})\n",
              "\n",
              "      for await (const message of channel.messages) {\n",
              "        // Send a message to notify the kernel that we're ready.\n",
              "        channel.send({})\n",
              "        if (message.buffers) {\n",
              "          for (const buffer of message.buffers) {\n",
              "            buffers.push(buffer);\n",
              "            downloaded += buffer.byteLength;\n",
              "            progress.value = downloaded;\n",
              "          }\n",
              "        }\n",
              "      }\n",
              "      const blob = new Blob(buffers, {type: 'application/binary'});\n",
              "      const a = document.createElement('a');\n",
              "      a.href = window.URL.createObjectURL(blob);\n",
              "      a.download = filename;\n",
              "      div.appendChild(a);\n",
              "      a.click();\n",
              "      div.remove();\n",
              "    }\n",
              "  "
            ]
          },
          "metadata": {}
        },
        {
          "output_type": "display_data",
          "data": {
            "text/plain": [
              "<IPython.core.display.Javascript object>"
            ],
            "application/javascript": [
              "download(\"download_850d89a2-154d-4e72-b353-9b2a248e9ddc\", \"predictions.csv\", 8504)"
            ]
          },
          "metadata": {}
        }
      ],
      "source": [
        "df_pred = pd.read_csv(\"/content/drive/MyDrive/DDML/unlabelled_test_data.csv\")\n",
        "x = df_pred[\"sentence\"]\n",
        "y_predict = pipe_tvec.predict(x)\n",
        "\n",
        "pred2 = df_pred\n",
        "pred2[\"difficulty\"] = y_predict\n",
        "predicsv = pred2[['id','difficulty']]\n",
        "\n",
        "from google.colab import files\n",
        "predicsv.to_csv('predictions.csv' ,header = True, index = False)\n",
        "files.download('predictions.csv')"
      ]
    },
    {
      "cell_type": "markdown",
      "metadata": {
        "id": "gstOUS94l69y"
      },
      "source": [
        "## 2.3. KNN (without data cleaning)\n",
        "Train a KNN classification model using a Tfidf vectoriser. Show the accuracy, precision, recall and F1 score on the test set.\n",
        "**KNN 1**"
      ]
    },
    {
      "cell_type": "code",
      "execution_count": null,
      "metadata": {
        "id": "gPvy4kgHnF5x"
      },
      "outputs": [],
      "source": [
        "# import libraries\n",
        "from sklearn.neighbors import KNeighborsClassifier\n",
        "\n",
        "\n",
        "# Pipeline for TF-IDF with KNN model\n",
        "pipe_knn = Pipeline([\n",
        "    ('tvec', TfidfVectorizer()), #transformer\n",
        "    ('knn', KNeighborsClassifier()) #model\n",
        "])\n",
        "\n",
        "# Fit model on training set\n",
        "pipe_knn.fit(X_train, y_train)\n",
        "y_pred = pipe_knn.predict(X_test)"
      ]
    },
    {
      "cell_type": "code",
      "execution_count": null,
      "metadata": {
        "colab": {
          "base_uri": "https://localhost:8080/"
        },
        "id": "hWGLmMhZykID",
        "outputId": "b5c41b9c-af83-4200-c5fa-17d9884d78e1"
      },
      "outputs": [
        {
          "output_type": "stream",
          "name": "stdout",
          "text": [
            "ACCURACY SCORE:\n",
            "0.3187\n",
            "CLASSIFICATION REPORT:\n",
            "\tPrecision: 0.3187\n",
            "\tRecall: 0.3187\n",
            "\tF1_Score: 0.3187\n"
          ]
        }
      ],
      "source": [
        "# Evaluation\n",
        "evaluate(y_test, y_pred)"
      ]
    },
    {
      "cell_type": "code",
      "source": [
        "# Save the results \n",
        "KNN1Accuracy = accuracy_score(y_test, y_pred)\n",
        "KNN1Precision = precision_score(y_test, y_pred,average='micro')\n",
        "KNN1Recall = recall_score(y_test, y_pred,average='micro')\n",
        "KNN1F1= f1_score(y_test, y_pred,average='micro')"
      ],
      "metadata": {
        "id": "jwAsAmvKdJVj"
      },
      "execution_count": null,
      "outputs": []
    },
    {
      "cell_type": "markdown",
      "metadata": {
        "id": "uok2HuG_nPUw"
      },
      "source": [
        "Try to improve it by tuning the hyper parameters (n_neighbors, p, weights).\n",
        "\n",
        "**KNN 2**\n",
        "\n"
      ]
    },
    {
      "cell_type": "code",
      "execution_count": null,
      "metadata": {
        "colab": {
          "base_uri": "https://localhost:8080/"
        },
        "id": "9f-QdelCnTFO",
        "outputId": "edc73aa7-a980-4f92-a7b4-005ad5960f7a"
      },
      "outputs": [
        {
          "output_type": "stream",
          "name": "stdout",
          "text": [
            "ACCURACY SCORE:\n",
            "0.3667\n",
            "CLASSIFICATION REPORT:\n",
            "\tPrecision: 0.3667\n",
            "\tRecall: 0.3667\n",
            "\tF1_Score: 0.3667\n"
          ]
        }
      ],
      "source": [
        "# Pipeline for TF-IDF with KNN model imporving parameters\n",
        "pipe_knn = Pipeline([\n",
        "    ('tvec', TfidfVectorizer()), #transformer\n",
        "    ('knn', KNeighborsClassifier(n_neighbors=140, p=2, weights='distance')) #model\n",
        "])\n",
        "\n",
        "# Fit model on training set\n",
        "pipe_knn.fit(X_train, y_train)\n",
        "y_pred = pipe_knn.predict(X_test)\n",
        "\n",
        "# Evaluation\n",
        "evaluate(y_test, y_pred)\n"
      ]
    },
    {
      "cell_type": "code",
      "source": [
        "# Save the results \n",
        "KNN2Accuracy = accuracy_score(y_test, y_pred)\n",
        "KNN2Precision = precision_score(y_test, y_pred,average='micro')\n",
        "KNN2Recall = recall_score(y_test, y_pred,average='micro')\n",
        "KNN2F1= f1_score(y_test, y_pred,average='micro')"
      ],
      "metadata": {
        "id": "veA6IVNOdV29"
      },
      "execution_count": null,
      "outputs": []
    },
    {
      "cell_type": "markdown",
      "metadata": {
        "id": "SE0xuhQCnTh4"
      },
      "source": [
        "## 2.4. Decision Tree Classifier (without data cleaning)\n",
        "Train a Decison Tree classifier, using a Tfidf vectoriser. Show the accuracy, precision, recall and F1 score on the test set.\n",
        "\n",
        "**Decision Tree Classifier 1**"
      ]
    },
    {
      "cell_type": "code",
      "execution_count": null,
      "metadata": {
        "id": "VusbZDNcniTc"
      },
      "outputs": [],
      "source": [
        "# import libraries\n",
        "from sklearn.tree import DecisionTreeClassifier \n",
        "\n",
        "# Pipeline for TF-IDF with Decision Tree Classifier model\n",
        "pipe_tree = Pipeline([\n",
        "    ('tvec', TfidfVectorizer()), #transformer\n",
        "    ('tree', DecisionTreeClassifier()) #model\n",
        "])\n",
        "\n",
        "# Fit model on training set\n",
        "pipe_tree.fit(X_train, y_train)\n",
        "y_pred = pipe_tree.predict(X_test)"
      ]
    },
    {
      "cell_type": "code",
      "execution_count": null,
      "metadata": {
        "colab": {
          "base_uri": "https://localhost:8080/"
        },
        "id": "pWVT1GEnygWW",
        "outputId": "d2fd59f2-55d6-4505-dae6-ceb977b08c91"
      },
      "outputs": [
        {
          "output_type": "stream",
          "name": "stdout",
          "text": [
            "ACCURACY SCORE:\n",
            "0.3104\n",
            "CLASSIFICATION REPORT:\n",
            "\tPrecision: 0.3104\n",
            "\tRecall: 0.3104\n",
            "\tF1_Score: 0.3104\n"
          ]
        }
      ],
      "source": [
        "# Evaluation\n",
        "evaluate(y_test, y_pred)"
      ]
    },
    {
      "cell_type": "code",
      "source": [
        "# Save the results \n",
        "DTC1Accuracy = accuracy_score(y_test, y_pred)\n",
        "DTC1Precision = precision_score(y_test, y_pred,average='micro')\n",
        "DTC1Recall = recall_score(y_test, y_pred,average='micro')\n",
        "DTC1F1= f1_score(y_test, y_pred,average='micro')"
      ],
      "metadata": {
        "id": "uEt7DmmXda88"
      },
      "execution_count": null,
      "outputs": []
    },
    {
      "cell_type": "markdown",
      "metadata": {
        "id": "2tT2lXmcni5v"
      },
      "source": [
        "Try to improve it by tuning the hyper parameters (max_depth, the depth of the decision tree).\n",
        "\n",
        "**Decision Tree Classifier 2**"
      ]
    },
    {
      "cell_type": "code",
      "execution_count": null,
      "metadata": {
        "colab": {
          "base_uri": "https://localhost:8080/"
        },
        "id": "MvbVBy-untTW",
        "outputId": "8e465310-bca9-4b9e-cf47-cf04eb9599e8"
      },
      "outputs": [
        {
          "output_type": "stream",
          "name": "stdout",
          "text": [
            "ACCURACY SCORE:\n",
            "0.3177\n",
            "CLASSIFICATION REPORT:\n",
            "\tPrecision: 0.3177\n",
            "\tRecall: 0.3177\n",
            "\tF1_Score: 0.3177\n"
          ]
        }
      ],
      "source": [
        "# Pipeline for TF-IDF with Decision Tree Classifier model imporving parameters\n",
        "pipe_tree = Pipeline([\n",
        "    ('tvec', TfidfVectorizer()), #transformer\n",
        "    ('tree', DecisionTreeClassifier(max_depth=15)) #model\n",
        "])\n",
        "\n",
        "# Fit model on training set\n",
        "pipe_tree.fit(X_train, y_train)\n",
        "y_pred = pipe_tree.predict(X_test)\n",
        "\n",
        "# Evaluation\n",
        "evaluate(y_test, y_pred)"
      ]
    },
    {
      "cell_type": "code",
      "source": [
        "# Save the results \n",
        "DTC2Accuracy = accuracy_score(y_test, y_pred)\n",
        "DTC2Precision = precision_score(y_test, y_pred,average='micro')\n",
        "DTC2Recall = recall_score(y_test, y_pred,average='micro')\n",
        "DTC2F1= f1_score(y_test, y_pred,average='micro')"
      ],
      "metadata": {
        "id": "M-XpUUlJdpa6"
      },
      "execution_count": null,
      "outputs": []
    },
    {
      "cell_type": "markdown",
      "metadata": {
        "id": "W66uFS1anuOv"
      },
      "source": [
        "## 2.5. Random Forest Classifier (without data cleaning)\n",
        "Try a Random Forest Classifier, using a Tfidf vectoriser. Show the accuracy, precision, recall and F1 score on the test set.\n",
        "\n",
        "**Random Forest Classifier 1**"
      ]
    },
    {
      "cell_type": "code",
      "execution_count": null,
      "metadata": {
        "id": "dYD2JwkvoE02"
      },
      "outputs": [],
      "source": [
        "# import libraries\n",
        "from sklearn.ensemble import RandomForestClassifier\n",
        "\n",
        "# Pipeline for TF-IDF with Random Forest Classifier model\n",
        "pipe_forest = Pipeline([\n",
        "    ('tvec', TfidfVectorizer()), #transformer\n",
        "    ('forest', RandomForestClassifier()) #model\n",
        "])\n",
        "\n",
        "# Fit model on training set\n",
        "pipe_forest.fit(X_train, y_train)\n",
        "y_pred = pipe_forest.predict(X_test)"
      ]
    },
    {
      "cell_type": "code",
      "execution_count": null,
      "metadata": {
        "colab": {
          "base_uri": "https://localhost:8080/"
        },
        "id": "jqf9W92l0mtv",
        "outputId": "b2d70d36-2d8d-4915-95a7-76a896963e48"
      },
      "outputs": [
        {
          "output_type": "stream",
          "name": "stdout",
          "text": [
            "ACCURACY SCORE:\n",
            "0.4042\n",
            "CLASSIFICATION REPORT:\n",
            "\tPrecision: 0.4042\n",
            "\tRecall: 0.4042\n",
            "\tF1_Score: 0.4042\n"
          ]
        }
      ],
      "source": [
        "# Evaluation\n",
        "evaluate(y_test, y_pred)"
      ]
    },
    {
      "cell_type": "code",
      "source": [
        "# Save the results \n",
        "RDF1Accuracy = accuracy_score(y_test, y_pred)\n",
        "RDF1Precision = precision_score(y_test, y_pred,average='micro')\n",
        "RDF1Recall = recall_score(y_test, y_pred,average='micro')\n",
        "RDF1F1= f1_score(y_test, y_pred,average='micro')"
      ],
      "metadata": {
        "id": "hyXG-YrHd4Bz"
      },
      "execution_count": null,
      "outputs": []
    },
    {
      "cell_type": "markdown",
      "source": [
        "**Random Forest Classifier 2**"
      ],
      "metadata": {
        "id": "FMyB0ZHzT34J"
      }
    },
    {
      "cell_type": "code",
      "execution_count": null,
      "metadata": {
        "colab": {
          "base_uri": "https://localhost:8080/"
        },
        "id": "GZd08zkr0qe3",
        "outputId": "67b7b7da-0af6-4930-c73b-636e7733e334"
      },
      "outputs": [
        {
          "output_type": "stream",
          "name": "stdout",
          "text": [
            "ACCURACY SCORE:\n",
            "0.4271\n",
            "CLASSIFICATION REPORT:\n",
            "\tPrecision: 0.4271\n",
            "\tRecall: 0.4271\n",
            "\tF1_Score: 0.4271\n"
          ]
        }
      ],
      "source": [
        "# Pipeline for TF-IDF with Random Forest Classifier model imporving parameters\n",
        "pipe_forest = Pipeline([\n",
        "    ('tvec', TfidfVectorizer()), #transformer\n",
        "    ('forest', RandomForestClassifier(max_depth=220, )) #model\n",
        "])\n",
        "\n",
        "# Fit model on training set\n",
        "pipe_forest.fit(X_train, y_train)\n",
        "y_pred = pipe_forest.predict(X_test)\n",
        "\n",
        "# Evaluation\n",
        "evaluate(y_test, y_pred)"
      ]
    },
    {
      "cell_type": "code",
      "source": [
        "# Save the results \n",
        "RDF2Accuracy = accuracy_score(y_test, y_pred)\n",
        "RDF2Precision = precision_score(y_test, y_pred,average='micro')\n",
        "RDF2Recall = recall_score(y_test, y_pred,average='micro')\n",
        "RDF2F1= f1_score(y_test, y_pred,average='micro')"
      ],
      "metadata": {
        "id": "Cl3Uv7jzeK_2"
      },
      "execution_count": null,
      "outputs": []
    },
    {
      "cell_type": "markdown",
      "source": [
        "# 3. Results"
      ],
      "metadata": {
        "id": "RzNNLcjUSXUc"
      }
    },
    {
      "cell_type": "code",
      "source": [
        "Results = pd.DataFrame({'Model selected': ['Logistic Regression 1', 'Logistic Regression 2', 'KNN','KNN 2','Decision Tree Classifier 1', \n",
        "                                           'Decision Tree Classifier 2', 'Random Forest Classifier 1', 'Random Forest Classifier 2'],\n",
        "                        'Accuracy': [LR1Accuracy,LR2Accuracy, KNN1Accuracy,KNN1Accuracy, DTC1Accuracy, DTC2Accuracy, RDF1Accuracy, RDF2Accuracy],\n",
        "                        'Precision': [LR1Precision, LR2Precision, KNN1Precision, KNN2Precision, DTC1Precision, DTC2Precision, RDF1Precision,RDF2Precision],\n",
        "                        'Recall': [LR1Recall, LR2Recall, KNN1Recall, KNN2Recall, DTC1Recall, DTC2Recall, RDF1Recall, RDF2Recall],\n",
        "                        'F1_Score': [LR1F1, LR2F1, KNN1F1, KNN2F1, DTC1F1, DTC2F1, RDF1F1, RDF2F1]})\n",
        "\n",
        "Results"
      ],
      "metadata": {
        "colab": {
          "base_uri": "https://localhost:8080/",
          "height": 300
        },
        "id": "_NR7eMstSlo5",
        "outputId": "c26f67ae-57a6-4591-d132-6148e620c4c3"
      },
      "execution_count": null,
      "outputs": [
        {
          "output_type": "execute_result",
          "data": {
            "text/plain": [
              "               Model selected  Accuracy  Precision    Recall  F1_Score\n",
              "0       Logistic Regression 1  0.466667   0.466667  0.466667  0.466667\n",
              "1       Logistic Regression 2  0.516667   0.516667  0.516667  0.516667\n",
              "2                         KNN  0.318750   0.318750  0.318750  0.318750\n",
              "3                       KNN 2  0.318750   0.366667  0.366667  0.366667\n",
              "4  Decision Tree Classifier 1  0.310417   0.310417  0.310417  0.310417\n",
              "5  Decision Tree Classifier 2  0.317708   0.317708  0.317708  0.317708\n",
              "6  Random Forest Classifier 1  0.404167   0.404167  0.404167  0.404167\n",
              "7  Random Forest Classifier 2  0.427083   0.427083  0.427083  0.427083"
            ],
            "text/html": [
              "\n",
              "  <div id=\"df-52949b63-cd1c-461b-92c1-7ff626e6df13\">\n",
              "    <div class=\"colab-df-container\">\n",
              "      <div>\n",
              "<style scoped>\n",
              "    .dataframe tbody tr th:only-of-type {\n",
              "        vertical-align: middle;\n",
              "    }\n",
              "\n",
              "    .dataframe tbody tr th {\n",
              "        vertical-align: top;\n",
              "    }\n",
              "\n",
              "    .dataframe thead th {\n",
              "        text-align: right;\n",
              "    }\n",
              "</style>\n",
              "<table border=\"1\" class=\"dataframe\">\n",
              "  <thead>\n",
              "    <tr style=\"text-align: right;\">\n",
              "      <th></th>\n",
              "      <th>Model selected</th>\n",
              "      <th>Accuracy</th>\n",
              "      <th>Precision</th>\n",
              "      <th>Recall</th>\n",
              "      <th>F1_Score</th>\n",
              "    </tr>\n",
              "  </thead>\n",
              "  <tbody>\n",
              "    <tr>\n",
              "      <th>0</th>\n",
              "      <td>Logistic Regression 1</td>\n",
              "      <td>0.466667</td>\n",
              "      <td>0.466667</td>\n",
              "      <td>0.466667</td>\n",
              "      <td>0.466667</td>\n",
              "    </tr>\n",
              "    <tr>\n",
              "      <th>1</th>\n",
              "      <td>Logistic Regression 2</td>\n",
              "      <td>0.516667</td>\n",
              "      <td>0.516667</td>\n",
              "      <td>0.516667</td>\n",
              "      <td>0.516667</td>\n",
              "    </tr>\n",
              "    <tr>\n",
              "      <th>2</th>\n",
              "      <td>KNN</td>\n",
              "      <td>0.318750</td>\n",
              "      <td>0.318750</td>\n",
              "      <td>0.318750</td>\n",
              "      <td>0.318750</td>\n",
              "    </tr>\n",
              "    <tr>\n",
              "      <th>3</th>\n",
              "      <td>KNN 2</td>\n",
              "      <td>0.318750</td>\n",
              "      <td>0.366667</td>\n",
              "      <td>0.366667</td>\n",
              "      <td>0.366667</td>\n",
              "    </tr>\n",
              "    <tr>\n",
              "      <th>4</th>\n",
              "      <td>Decision Tree Classifier 1</td>\n",
              "      <td>0.310417</td>\n",
              "      <td>0.310417</td>\n",
              "      <td>0.310417</td>\n",
              "      <td>0.310417</td>\n",
              "    </tr>\n",
              "    <tr>\n",
              "      <th>5</th>\n",
              "      <td>Decision Tree Classifier 2</td>\n",
              "      <td>0.317708</td>\n",
              "      <td>0.317708</td>\n",
              "      <td>0.317708</td>\n",
              "      <td>0.317708</td>\n",
              "    </tr>\n",
              "    <tr>\n",
              "      <th>6</th>\n",
              "      <td>Random Forest Classifier 1</td>\n",
              "      <td>0.404167</td>\n",
              "      <td>0.404167</td>\n",
              "      <td>0.404167</td>\n",
              "      <td>0.404167</td>\n",
              "    </tr>\n",
              "    <tr>\n",
              "      <th>7</th>\n",
              "      <td>Random Forest Classifier 2</td>\n",
              "      <td>0.427083</td>\n",
              "      <td>0.427083</td>\n",
              "      <td>0.427083</td>\n",
              "      <td>0.427083</td>\n",
              "    </tr>\n",
              "  </tbody>\n",
              "</table>\n",
              "</div>\n",
              "      <button class=\"colab-df-convert\" onclick=\"convertToInteractive('df-52949b63-cd1c-461b-92c1-7ff626e6df13')\"\n",
              "              title=\"Convert this dataframe to an interactive table.\"\n",
              "              style=\"display:none;\">\n",
              "        \n",
              "  <svg xmlns=\"http://www.w3.org/2000/svg\" height=\"24px\"viewBox=\"0 0 24 24\"\n",
              "       width=\"24px\">\n",
              "    <path d=\"M0 0h24v24H0V0z\" fill=\"none\"/>\n",
              "    <path d=\"M18.56 5.44l.94 2.06.94-2.06 2.06-.94-2.06-.94-.94-2.06-.94 2.06-2.06.94zm-11 1L8.5 8.5l.94-2.06 2.06-.94-2.06-.94L8.5 2.5l-.94 2.06-2.06.94zm10 10l.94 2.06.94-2.06 2.06-.94-2.06-.94-.94-2.06-.94 2.06-2.06.94z\"/><path d=\"M17.41 7.96l-1.37-1.37c-.4-.4-.92-.59-1.43-.59-.52 0-1.04.2-1.43.59L10.3 9.45l-7.72 7.72c-.78.78-.78 2.05 0 2.83L4 21.41c.39.39.9.59 1.41.59.51 0 1.02-.2 1.41-.59l7.78-7.78 2.81-2.81c.8-.78.8-2.07 0-2.86zM5.41 20L4 18.59l7.72-7.72 1.47 1.35L5.41 20z\"/>\n",
              "  </svg>\n",
              "      </button>\n",
              "      \n",
              "  <style>\n",
              "    .colab-df-container {\n",
              "      display:flex;\n",
              "      flex-wrap:wrap;\n",
              "      gap: 12px;\n",
              "    }\n",
              "\n",
              "    .colab-df-convert {\n",
              "      background-color: #E8F0FE;\n",
              "      border: none;\n",
              "      border-radius: 50%;\n",
              "      cursor: pointer;\n",
              "      display: none;\n",
              "      fill: #1967D2;\n",
              "      height: 32px;\n",
              "      padding: 0 0 0 0;\n",
              "      width: 32px;\n",
              "    }\n",
              "\n",
              "    .colab-df-convert:hover {\n",
              "      background-color: #E2EBFA;\n",
              "      box-shadow: 0px 1px 2px rgba(60, 64, 67, 0.3), 0px 1px 3px 1px rgba(60, 64, 67, 0.15);\n",
              "      fill: #174EA6;\n",
              "    }\n",
              "\n",
              "    [theme=dark] .colab-df-convert {\n",
              "      background-color: #3B4455;\n",
              "      fill: #D2E3FC;\n",
              "    }\n",
              "\n",
              "    [theme=dark] .colab-df-convert:hover {\n",
              "      background-color: #434B5C;\n",
              "      box-shadow: 0px 1px 3px 1px rgba(0, 0, 0, 0.15);\n",
              "      filter: drop-shadow(0px 1px 2px rgba(0, 0, 0, 0.3));\n",
              "      fill: #FFFFFF;\n",
              "    }\n",
              "  </style>\n",
              "\n",
              "      <script>\n",
              "        const buttonEl =\n",
              "          document.querySelector('#df-52949b63-cd1c-461b-92c1-7ff626e6df13 button.colab-df-convert');\n",
              "        buttonEl.style.display =\n",
              "          google.colab.kernel.accessAllowed ? 'block' : 'none';\n",
              "\n",
              "        async function convertToInteractive(key) {\n",
              "          const element = document.querySelector('#df-52949b63-cd1c-461b-92c1-7ff626e6df13');\n",
              "          const dataTable =\n",
              "            await google.colab.kernel.invokeFunction('convertToInteractive',\n",
              "                                                     [key], {});\n",
              "          if (!dataTable) return;\n",
              "\n",
              "          const docLinkHtml = 'Like what you see? Visit the ' +\n",
              "            '<a target=\"_blank\" href=https://colab.research.google.com/notebooks/data_table.ipynb>data table notebook</a>'\n",
              "            + ' to learn more about interactive tables.';\n",
              "          element.innerHTML = '';\n",
              "          dataTable['output_type'] = 'display_data';\n",
              "          await google.colab.output.renderOutput(dataTable, element);\n",
              "          const docLink = document.createElement('div');\n",
              "          docLink.innerHTML = docLinkHtml;\n",
              "          element.appendChild(docLink);\n",
              "        }\n",
              "      </script>\n",
              "    </div>\n",
              "  </div>\n",
              "  "
            ]
          },
          "metadata": {},
          "execution_count": 97
        }
      ]
    },
    {
      "cell_type": "markdown",
      "source": [
        "**The best model is the following :**"
      ],
      "metadata": {
        "id": "j8Ltj7dYjXKU"
      }
    },
    {
      "cell_type": "code",
      "source": [
        "print(Results.loc[Results.Accuracy == Results.Accuracy.max()][['Model selected','Accuracy']])"
      ],
      "metadata": {
        "colab": {
          "base_uri": "https://localhost:8080/"
        },
        "id": "LRUx0qVjhc8Z",
        "outputId": "a996590e-64e2-4390-9e7a-0549bc1a2282"
      },
      "execution_count": null,
      "outputs": [
        {
          "output_type": "stream",
          "name": "stdout",
          "text": [
            "          Model selected  Accuracy\n",
            "1  Logistic Regression 2  0.516667\n"
          ]
        }
      ]
    }
  ],
  "metadata": {
    "colab": {
      "provenance": [],
      "collapsed_sections": [
        "cmB0hBTrwKF7"
      ]
    },
    "kernelspec": {
      "display_name": "Python 3",
      "name": "python3"
    },
    "language_info": {
      "name": "python"
    }
  },
  "nbformat": 4,
  "nbformat_minor": 0
}
